{
 "cells": [
  {
   "cell_type": "markdown",
   "id": "882c450d",
   "metadata": {},
   "source": [
    "# Project: Investigate a Dataset - [Medical Appointment No Shows]\n",
    "Table of Contents\n",
    "Introduction\n",
    "Data Wrangling\n",
    "Exploratory Data Analysis\n",
    "Conclusions"
   ]
  },
  {
   "cell_type": "markdown",
   "id": "1d6bbcb7",
   "metadata": {},
   "source": [
    "# Introduction\n",
    "The project titled \"Investigate a Dataset - [Medical Appointment No Shows]\" is an in-depth analysis of a dataset that collects information from 100k medical appointments in Brazil. The primary focus of this investigation is to understand the factors influencing whether or not patients show up for their appointments. The dataset includes various patient characteristics such as gender, age, and health conditions like hypertension and diabetes. It also considers external factors like the location of the hospital and whether the patient received an SMS reminder. This project aims to uncover patterns and insights that could potentially improve patient attendance at medical appointments. Let's dive into the data and see what it reveals.\n",
    "\n",
    "\n",
    "\n",
    "# Dataset Description\n",
    "This dataset collects information from 100k medical appointments in Brazil and is focused on the question of whether or not patients show up for their appointment. A number of characteristics about the patient are included in each row. ‘PatientId’ Identification of a patient ‘AppointmentID’ Identification of each appointment ‘Gender’ Male or Female . Female is the greater proportion, woman takes way more care of they health in comparison to man. ‘ScheduledDay’ tells us on what day the patient set up their appointment. ‘AppointmentDay’ The day of the actuall appointment, when they have to visit the doctor., this is before appointment of course. ‘Age’ tells How old is the patient. ‘Neighborhood’ indicates the location of the hospital. ‘Scholarship’ indicates whether or not the patient is enrolled in Brasilian welfare program Bolsa Família(opens in a new tab). ‘Hipertension’ True or False(tells if the patient has Hipertension) ‘Diabetes’ True or False(tells if the patient has Diabetes) ‘Alcoholism’ True or False ‘Handcap’ True or False ‘SMS_received’ 1 or more messages sent to the patient. ‘No-showe’ True or False\n",
    "\n",
    "Hint the encoding of the last column: it says ‘No’ if the patient showed up to their appointment, and ‘Yes’ if they did not show up.\n",
    "\n",
    "# Question(s) for Analysis\n",
    "What factors are associated with patients not showing up for their medical appointments?\n",
    "\n",
    "Does the number of reminder messages (SMS_received) impact whether a patient shows up for their appointment?\n",
    "Is there a significant difference in the no-show rate between different age groups?\n",
    "Is there a significant difference in the proportion of no-shows between male and female patients?\n"
   ]
  },
  {
   "cell_type": "markdown",
   "id": "ec79a643",
   "metadata": {},
   "source": [
    "import  of the packages that i need it"
   ]
  },
  {
   "cell_type": "code",
   "execution_count": 146,
   "id": "efc93c53",
   "metadata": {},
   "outputs": [],
   "source": [
    "\n",
    "import pandas as pd\n",
    "import numpy as nm\n",
    "import matplotlib.pyplot as plt"
   ]
  },
  {
   "cell_type": "markdown",
   "id": "71498b80",
   "metadata": {},
   "source": [
    "# Data Wrangling\n",
    "Tip: In this section of the report, you will load in the data, check for cleanliness, and then trim and clean your dataset for analysis. Make sure that you document your data cleaning steps in mark-down cells precisely and justify your cleaning decisions.(This stage involves cleaning the data and preparing it for analysis. This includes handling missing values, dealing with outliers, and ensuring the data types are appropriate for the analysis.)"
   ]
  },
  {
   "cell_type": "markdown",
   "id": "4a162c86",
   "metadata": {},
   "source": [
    "Load my data and print out a few lines. What is the size of\n",
    "your dataframe? "
   ]
  },
  {
   "cell_type": "code",
   "execution_count": 147,
   "id": "29fff48b",
   "metadata": {},
   "outputs": [
    {
     "data": {
      "text/html": [
       "<div>\n",
       "<style scoped>\n",
       "    .dataframe tbody tr th:only-of-type {\n",
       "        vertical-align: middle;\n",
       "    }\n",
       "\n",
       "    .dataframe tbody tr th {\n",
       "        vertical-align: top;\n",
       "    }\n",
       "\n",
       "    .dataframe thead th {\n",
       "        text-align: right;\n",
       "    }\n",
       "</style>\n",
       "<table border=\"1\" class=\"dataframe\">\n",
       "  <thead>\n",
       "    <tr style=\"text-align: right;\">\n",
       "      <th></th>\n",
       "      <th>PatientId</th>\n",
       "      <th>AppointmentID</th>\n",
       "      <th>Gender</th>\n",
       "      <th>ScheduledDay</th>\n",
       "      <th>AppointmentDay</th>\n",
       "      <th>Age</th>\n",
       "      <th>Neighbourhood</th>\n",
       "      <th>Scholarship</th>\n",
       "      <th>Hipertension</th>\n",
       "      <th>Diabetes</th>\n",
       "      <th>Alcoholism</th>\n",
       "      <th>Handcap</th>\n",
       "      <th>SMS_received</th>\n",
       "      <th>No-show</th>\n",
       "    </tr>\n",
       "  </thead>\n",
       "  <tbody>\n",
       "    <tr>\n",
       "      <th>0</th>\n",
       "      <td>2.987250e+13</td>\n",
       "      <td>5642903</td>\n",
       "      <td>F</td>\n",
       "      <td>2016-04-29T18:38:08Z</td>\n",
       "      <td>2016-04-29T00:00:00Z</td>\n",
       "      <td>62</td>\n",
       "      <td>JARDIM DA PENHA</td>\n",
       "      <td>0</td>\n",
       "      <td>1</td>\n",
       "      <td>0</td>\n",
       "      <td>0</td>\n",
       "      <td>0</td>\n",
       "      <td>0</td>\n",
       "      <td>No</td>\n",
       "    </tr>\n",
       "    <tr>\n",
       "      <th>1</th>\n",
       "      <td>5.589978e+14</td>\n",
       "      <td>5642503</td>\n",
       "      <td>M</td>\n",
       "      <td>2016-04-29T16:08:27Z</td>\n",
       "      <td>2016-04-29T00:00:00Z</td>\n",
       "      <td>56</td>\n",
       "      <td>JARDIM DA PENHA</td>\n",
       "      <td>0</td>\n",
       "      <td>0</td>\n",
       "      <td>0</td>\n",
       "      <td>0</td>\n",
       "      <td>0</td>\n",
       "      <td>0</td>\n",
       "      <td>No</td>\n",
       "    </tr>\n",
       "    <tr>\n",
       "      <th>2</th>\n",
       "      <td>4.262962e+12</td>\n",
       "      <td>5642549</td>\n",
       "      <td>F</td>\n",
       "      <td>2016-04-29T16:19:04Z</td>\n",
       "      <td>2016-04-29T00:00:00Z</td>\n",
       "      <td>62</td>\n",
       "      <td>MATA DA PRAIA</td>\n",
       "      <td>0</td>\n",
       "      <td>0</td>\n",
       "      <td>0</td>\n",
       "      <td>0</td>\n",
       "      <td>0</td>\n",
       "      <td>0</td>\n",
       "      <td>No</td>\n",
       "    </tr>\n",
       "    <tr>\n",
       "      <th>3</th>\n",
       "      <td>8.679512e+11</td>\n",
       "      <td>5642828</td>\n",
       "      <td>F</td>\n",
       "      <td>2016-04-29T17:29:31Z</td>\n",
       "      <td>2016-04-29T00:00:00Z</td>\n",
       "      <td>8</td>\n",
       "      <td>PONTAL DE CAMBURI</td>\n",
       "      <td>0</td>\n",
       "      <td>0</td>\n",
       "      <td>0</td>\n",
       "      <td>0</td>\n",
       "      <td>0</td>\n",
       "      <td>0</td>\n",
       "      <td>No</td>\n",
       "    </tr>\n",
       "    <tr>\n",
       "      <th>4</th>\n",
       "      <td>8.841186e+12</td>\n",
       "      <td>5642494</td>\n",
       "      <td>F</td>\n",
       "      <td>2016-04-29T16:07:23Z</td>\n",
       "      <td>2016-04-29T00:00:00Z</td>\n",
       "      <td>56</td>\n",
       "      <td>JARDIM DA PENHA</td>\n",
       "      <td>0</td>\n",
       "      <td>1</td>\n",
       "      <td>1</td>\n",
       "      <td>0</td>\n",
       "      <td>0</td>\n",
       "      <td>0</td>\n",
       "      <td>No</td>\n",
       "    </tr>\n",
       "  </tbody>\n",
       "</table>\n",
       "</div>"
      ],
      "text/plain": [
       "      PatientId  AppointmentID Gender          ScheduledDay  \\\n",
       "0  2.987250e+13        5642903      F  2016-04-29T18:38:08Z   \n",
       "1  5.589978e+14        5642503      M  2016-04-29T16:08:27Z   \n",
       "2  4.262962e+12        5642549      F  2016-04-29T16:19:04Z   \n",
       "3  8.679512e+11        5642828      F  2016-04-29T17:29:31Z   \n",
       "4  8.841186e+12        5642494      F  2016-04-29T16:07:23Z   \n",
       "\n",
       "         AppointmentDay  Age      Neighbourhood  Scholarship  Hipertension  \\\n",
       "0  2016-04-29T00:00:00Z   62    JARDIM DA PENHA            0             1   \n",
       "1  2016-04-29T00:00:00Z   56    JARDIM DA PENHA            0             0   \n",
       "2  2016-04-29T00:00:00Z   62      MATA DA PRAIA            0             0   \n",
       "3  2016-04-29T00:00:00Z    8  PONTAL DE CAMBURI            0             0   \n",
       "4  2016-04-29T00:00:00Z   56    JARDIM DA PENHA            0             1   \n",
       "\n",
       "   Diabetes  Alcoholism  Handcap  SMS_received No-show  \n",
       "0         0           0        0             0      No  \n",
       "1         0           0        0             0      No  \n",
       "2         0           0        0             0      No  \n",
       "3         0           0        0             0      No  \n",
       "4         1           0        0             0      No  "
      ]
     },
     "execution_count": 147,
     "metadata": {},
     "output_type": "execute_result"
    }
   ],
   "source": [
    "\n",
    "df=pd.read_csv('noshowappointments-kagglev2-may-2016.csv')\n",
    "df.head()"
   ]
  },
  {
   "cell_type": "code",
   "execution_count": 148,
   "id": "ab5bf47e",
   "metadata": {},
   "outputs": [
    {
     "data": {
      "text/plain": [
       "(110527, 14)"
      ]
     },
     "execution_count": 148,
     "metadata": {},
     "output_type": "execute_result"
    }
   ],
   "source": [
    "df.shape"
   ]
  },
  {
   "cell_type": "markdown",
   "id": "58797b15",
   "metadata": {},
   "source": [
    "Understand the Dataset"
   ]
  },
  {
   "cell_type": "code",
   "execution_count": 149,
   "id": "1296aef2",
   "metadata": {},
   "outputs": [
    {
     "name": "stdout",
     "output_type": "stream",
     "text": [
      "<class 'pandas.core.frame.DataFrame'>\n",
      "RangeIndex: 110527 entries, 0 to 110526\n",
      "Data columns (total 14 columns):\n",
      " #   Column          Non-Null Count   Dtype  \n",
      "---  ------          --------------   -----  \n",
      " 0   PatientId       110527 non-null  float64\n",
      " 1   AppointmentID   110527 non-null  int64  \n",
      " 2   Gender          110527 non-null  object \n",
      " 3   ScheduledDay    110527 non-null  object \n",
      " 4   AppointmentDay  110527 non-null  object \n",
      " 5   Age             110527 non-null  int64  \n",
      " 6   Neighbourhood   110527 non-null  object \n",
      " 7   Scholarship     110527 non-null  int64  \n",
      " 8   Hipertension    110527 non-null  int64  \n",
      " 9   Diabetes        110527 non-null  int64  \n",
      " 10  Alcoholism      110527 non-null  int64  \n",
      " 11  Handcap         110527 non-null  int64  \n",
      " 12  SMS_received    110527 non-null  int64  \n",
      " 13  No-show         110527 non-null  object \n",
      "dtypes: float64(1), int64(8), object(5)\n",
      "memory usage: 11.8+ MB\n"
     ]
    }
   ],
   "source": [
    "\n",
    "df.info()\n"
   ]
  },
  {
   "cell_type": "code",
   "execution_count": 150,
   "id": "a90677a5",
   "metadata": {},
   "outputs": [
    {
     "data": {
      "text/html": [
       "<div>\n",
       "<style scoped>\n",
       "    .dataframe tbody tr th:only-of-type {\n",
       "        vertical-align: middle;\n",
       "    }\n",
       "\n",
       "    .dataframe tbody tr th {\n",
       "        vertical-align: top;\n",
       "    }\n",
       "\n",
       "    .dataframe thead th {\n",
       "        text-align: right;\n",
       "    }\n",
       "</style>\n",
       "<table border=\"1\" class=\"dataframe\">\n",
       "  <thead>\n",
       "    <tr style=\"text-align: right;\">\n",
       "      <th></th>\n",
       "      <th>PatientId</th>\n",
       "      <th>AppointmentID</th>\n",
       "      <th>Age</th>\n",
       "      <th>Scholarship</th>\n",
       "      <th>Hipertension</th>\n",
       "      <th>Diabetes</th>\n",
       "      <th>Alcoholism</th>\n",
       "      <th>Handcap</th>\n",
       "      <th>SMS_received</th>\n",
       "    </tr>\n",
       "  </thead>\n",
       "  <tbody>\n",
       "    <tr>\n",
       "      <th>count</th>\n",
       "      <td>1.105270e+05</td>\n",
       "      <td>1.105270e+05</td>\n",
       "      <td>110527.000000</td>\n",
       "      <td>110527.000000</td>\n",
       "      <td>110527.000000</td>\n",
       "      <td>110527.000000</td>\n",
       "      <td>110527.000000</td>\n",
       "      <td>110527.000000</td>\n",
       "      <td>110527.000000</td>\n",
       "    </tr>\n",
       "    <tr>\n",
       "      <th>mean</th>\n",
       "      <td>1.474963e+14</td>\n",
       "      <td>5.675305e+06</td>\n",
       "      <td>37.088874</td>\n",
       "      <td>0.098266</td>\n",
       "      <td>0.197246</td>\n",
       "      <td>0.071865</td>\n",
       "      <td>0.030400</td>\n",
       "      <td>0.022248</td>\n",
       "      <td>0.321026</td>\n",
       "    </tr>\n",
       "    <tr>\n",
       "      <th>std</th>\n",
       "      <td>2.560949e+14</td>\n",
       "      <td>7.129575e+04</td>\n",
       "      <td>23.110205</td>\n",
       "      <td>0.297675</td>\n",
       "      <td>0.397921</td>\n",
       "      <td>0.258265</td>\n",
       "      <td>0.171686</td>\n",
       "      <td>0.161543</td>\n",
       "      <td>0.466873</td>\n",
       "    </tr>\n",
       "    <tr>\n",
       "      <th>min</th>\n",
       "      <td>3.921784e+04</td>\n",
       "      <td>5.030230e+06</td>\n",
       "      <td>-1.000000</td>\n",
       "      <td>0.000000</td>\n",
       "      <td>0.000000</td>\n",
       "      <td>0.000000</td>\n",
       "      <td>0.000000</td>\n",
       "      <td>0.000000</td>\n",
       "      <td>0.000000</td>\n",
       "    </tr>\n",
       "    <tr>\n",
       "      <th>25%</th>\n",
       "      <td>4.172614e+12</td>\n",
       "      <td>5.640286e+06</td>\n",
       "      <td>18.000000</td>\n",
       "      <td>0.000000</td>\n",
       "      <td>0.000000</td>\n",
       "      <td>0.000000</td>\n",
       "      <td>0.000000</td>\n",
       "      <td>0.000000</td>\n",
       "      <td>0.000000</td>\n",
       "    </tr>\n",
       "    <tr>\n",
       "      <th>50%</th>\n",
       "      <td>3.173184e+13</td>\n",
       "      <td>5.680573e+06</td>\n",
       "      <td>37.000000</td>\n",
       "      <td>0.000000</td>\n",
       "      <td>0.000000</td>\n",
       "      <td>0.000000</td>\n",
       "      <td>0.000000</td>\n",
       "      <td>0.000000</td>\n",
       "      <td>0.000000</td>\n",
       "    </tr>\n",
       "    <tr>\n",
       "      <th>75%</th>\n",
       "      <td>9.439172e+13</td>\n",
       "      <td>5.725524e+06</td>\n",
       "      <td>55.000000</td>\n",
       "      <td>0.000000</td>\n",
       "      <td>0.000000</td>\n",
       "      <td>0.000000</td>\n",
       "      <td>0.000000</td>\n",
       "      <td>0.000000</td>\n",
       "      <td>1.000000</td>\n",
       "    </tr>\n",
       "    <tr>\n",
       "      <th>max</th>\n",
       "      <td>9.999816e+14</td>\n",
       "      <td>5.790484e+06</td>\n",
       "      <td>115.000000</td>\n",
       "      <td>1.000000</td>\n",
       "      <td>1.000000</td>\n",
       "      <td>1.000000</td>\n",
       "      <td>1.000000</td>\n",
       "      <td>4.000000</td>\n",
       "      <td>1.000000</td>\n",
       "    </tr>\n",
       "  </tbody>\n",
       "</table>\n",
       "</div>"
      ],
      "text/plain": [
       "          PatientId  AppointmentID            Age    Scholarship  \\\n",
       "count  1.105270e+05   1.105270e+05  110527.000000  110527.000000   \n",
       "mean   1.474963e+14   5.675305e+06      37.088874       0.098266   \n",
       "std    2.560949e+14   7.129575e+04      23.110205       0.297675   \n",
       "min    3.921784e+04   5.030230e+06      -1.000000       0.000000   \n",
       "25%    4.172614e+12   5.640286e+06      18.000000       0.000000   \n",
       "50%    3.173184e+13   5.680573e+06      37.000000       0.000000   \n",
       "75%    9.439172e+13   5.725524e+06      55.000000       0.000000   \n",
       "max    9.999816e+14   5.790484e+06     115.000000       1.000000   \n",
       "\n",
       "        Hipertension       Diabetes     Alcoholism        Handcap  \\\n",
       "count  110527.000000  110527.000000  110527.000000  110527.000000   \n",
       "mean        0.197246       0.071865       0.030400       0.022248   \n",
       "std         0.397921       0.258265       0.171686       0.161543   \n",
       "min         0.000000       0.000000       0.000000       0.000000   \n",
       "25%         0.000000       0.000000       0.000000       0.000000   \n",
       "50%         0.000000       0.000000       0.000000       0.000000   \n",
       "75%         0.000000       0.000000       0.000000       0.000000   \n",
       "max         1.000000       1.000000       1.000000       4.000000   \n",
       "\n",
       "        SMS_received  \n",
       "count  110527.000000  \n",
       "mean        0.321026  \n",
       "std         0.466873  \n",
       "min         0.000000  \n",
       "25%         0.000000  \n",
       "50%         0.000000  \n",
       "75%         1.000000  \n",
       "max         1.000000  "
      ]
     },
     "execution_count": 150,
     "metadata": {},
     "output_type": "execute_result"
    }
   ],
   "source": [
    "\n",
    "df.describe()"
   ]
  },
  {
   "cell_type": "markdown",
   "id": "f6567fde",
   "metadata": {},
   "source": [
    "#check for missing values"
   ]
  },
  {
   "cell_type": "code",
   "execution_count": 151,
   "id": "9275b0cd",
   "metadata": {},
   "outputs": [
    {
     "data": {
      "text/plain": [
       "PatientId         0\n",
       "AppointmentID     0\n",
       "Gender            0\n",
       "ScheduledDay      0\n",
       "AppointmentDay    0\n",
       "Age               0\n",
       "Neighbourhood     0\n",
       "Scholarship       0\n",
       "Hipertension      0\n",
       "Diabetes          0\n",
       "Alcoholism        0\n",
       "Handcap           0\n",
       "SMS_received      0\n",
       "No-show           0\n",
       "dtype: int64"
      ]
     },
     "execution_count": 151,
     "metadata": {},
     "output_type": "execute_result"
    }
   ],
   "source": [
    "\n",
    "df.isnull().sum()"
   ]
  },
  {
   "cell_type": "markdown",
   "id": "85efd253",
   "metadata": {},
   "source": [
    "#Display data types of each column"
   ]
  },
  {
   "cell_type": "code",
   "execution_count": 152,
   "id": "635b9427",
   "metadata": {},
   "outputs": [
    {
     "data": {
      "text/plain": [
       "PatientId         float64\n",
       "AppointmentID       int64\n",
       "Gender             object\n",
       "ScheduledDay       object\n",
       "AppointmentDay     object\n",
       "Age                 int64\n",
       "Neighbourhood      object\n",
       "Scholarship         int64\n",
       "Hipertension        int64\n",
       "Diabetes            int64\n",
       "Alcoholism          int64\n",
       "Handcap             int64\n",
       "SMS_received        int64\n",
       "No-show            object\n",
       "dtype: object"
      ]
     },
     "execution_count": 152,
     "metadata": {},
     "output_type": "execute_result"
    }
   ],
   "source": [
    "\n",
    "df.dtypes"
   ]
  },
  {
   "cell_type": "markdown",
   "id": "eae2106e",
   "metadata": {},
   "source": [
    " Display unique values in the 'No-show' column"
   ]
  },
  {
   "cell_type": "code",
   "execution_count": 153,
   "id": "2a58c215",
   "metadata": {},
   "outputs": [
    {
     "data": {
      "text/plain": [
       "2"
      ]
     },
     "execution_count": 153,
     "metadata": {},
     "output_type": "execute_result"
    }
   ],
   "source": [
    "\n",
    "df['No-show'].nunique()"
   ]
  },
  {
   "cell_type": "markdown",
   "id": "9ed01bc8",
   "metadata": {},
   "source": [
    " #Display value counts for the 'No-show' column"
   ]
  },
  {
   "cell_type": "code",
   "execution_count": 154,
   "id": "e85d756c",
   "metadata": {},
   "outputs": [
    {
     "data": {
      "text/plain": [
       "No-show\n",
       "No     88208\n",
       "Yes    22319\n",
       "Name: count, dtype: int64"
      ]
     },
     "execution_count": 154,
     "metadata": {},
     "output_type": "execute_result"
    }
   ],
   "source": [
    "\n",
    "df['No-show'].value_counts()"
   ]
  },
  {
   "cell_type": "markdown",
   "id": "bd96fc2f",
   "metadata": {},
   "source": [
    "# Data Cleaning"
   ]
  },
  {
   "cell_type": "markdown",
   "id": "4bf4c7e0",
   "metadata": {},
   "source": [
    "#Missing Data"
   ]
  },
  {
   "cell_type": "code",
   "execution_count": 155,
   "id": "0c83070d",
   "metadata": {},
   "outputs": [
    {
     "data": {
      "text/plain": [
       "PatientId         0\n",
       "AppointmentID     0\n",
       "Gender            0\n",
       "ScheduledDay      0\n",
       "AppointmentDay    0\n",
       "Age               0\n",
       "Neighbourhood     0\n",
       "Scholarship       0\n",
       "Hipertension      0\n",
       "Diabetes          0\n",
       "Alcoholism        0\n",
       "Handcap           0\n",
       "SMS_received      0\n",
       "No-show           0\n",
       "dtype: int64"
      ]
     },
     "execution_count": 155,
     "metadata": {},
     "output_type": "execute_result"
    }
   ],
   "source": [
    "#Missing Data\n",
    "df.isnull().sum()\n",
    "#therein not missing value"
   ]
  },
  {
   "cell_type": "markdown",
   "id": "a4544510",
   "metadata": {},
   "source": [
    "#chaeck duplicated value"
   ]
  },
  {
   "cell_type": "code",
   "execution_count": 156,
   "id": "e9297daa",
   "metadata": {},
   "outputs": [
    {
     "data": {
      "text/plain": [
       "0         False\n",
       "1         False\n",
       "2         False\n",
       "3         False\n",
       "4         False\n",
       "          ...  \n",
       "110522    False\n",
       "110523    False\n",
       "110524    False\n",
       "110525    False\n",
       "110526    False\n",
       "Length: 110527, dtype: bool"
      ]
     },
     "execution_count": 156,
     "metadata": {},
     "output_type": "execute_result"
    }
   ],
   "source": [
    "\n",
    "df.duplicated()"
   ]
  },
  {
   "cell_type": "code",
   "execution_count": 157,
   "id": "22e2d478",
   "metadata": {},
   "outputs": [
    {
     "data": {
      "text/plain": [
       "0"
      ]
     },
     "execution_count": 157,
     "metadata": {},
     "output_type": "execute_result"
    }
   ],
   "source": [
    "sum(df.duplicated())\n",
    "#there is no duplicated value"
   ]
  },
  {
   "cell_type": "markdown",
   "id": "40c85069",
   "metadata": {},
   "source": [
    "i will sure that\n",
    " Fill missing values for numerical columns with 0\n",
    " Fill missing values for categorical columns with 'Unknown'"
   ]
  },
  {
   "cell_type": "code",
   "execution_count": 158,
   "id": "59b01a39",
   "metadata": {},
   "outputs": [],
   "source": [
    "\n",
    "# Fill missing values for numerical columns with 0\n",
    "numerical_cols = df.select_dtypes(['int64', 'float64']).columns\n",
    "df[numerical_cols] = df[numerical_cols].fillna(0)\n",
    "\n",
    "\n",
    "categorical_cols = df.select_dtypes((['object'])).columns\n",
    "df[categorical_cols] = df[categorical_cols].fillna('Unknown')\n"
   ]
  },
  {
   "cell_type": "markdown",
   "id": "f7ee1be6",
   "metadata": {},
   "source": [
    "#sure for duplicate"
   ]
  },
  {
   "cell_type": "code",
   "execution_count": 159,
   "id": "5844610a",
   "metadata": {},
   "outputs": [],
   "source": [
    "\n",
    "df.drop_duplicates(inplace=True)"
   ]
  },
  {
   "cell_type": "markdown",
   "id": "c81741b1",
   "metadata": {},
   "source": [
    "#for incorrect data type"
   ]
  },
  {
   "cell_type": "code",
   "execution_count": 160,
   "id": "0086131e",
   "metadata": {},
   "outputs": [],
   "source": [
    "\n",
    "df['ScheduledDay '] = pd.to_datetime(df['AppointmentDay'])\n",
    "df['AppointmentDay '] = pd.to_datetime(df['AppointmentDay'])\n",
    "\n"
   ]
  },
  {
   "cell_type": "code",
   "execution_count": 161,
   "id": "ab13adf6",
   "metadata": {},
   "outputs": [
    {
     "name": "stdout",
     "output_type": "stream",
     "text": [
      "<class 'pandas.core.frame.DataFrame'>\n",
      "RangeIndex: 110527 entries, 0 to 110526\n",
      "Data columns (total 16 columns):\n",
      " #   Column           Non-Null Count   Dtype              \n",
      "---  ------           --------------   -----              \n",
      " 0   PatientId        110527 non-null  float64            \n",
      " 1   AppointmentID    110527 non-null  int64              \n",
      " 2   Gender           110527 non-null  object             \n",
      " 3   ScheduledDay     110527 non-null  object             \n",
      " 4   AppointmentDay   110527 non-null  object             \n",
      " 5   Age              110527 non-null  int64              \n",
      " 6   Neighbourhood    110527 non-null  object             \n",
      " 7   Scholarship      110527 non-null  int64              \n",
      " 8   Hipertension     110527 non-null  int64              \n",
      " 9   Diabetes         110527 non-null  int64              \n",
      " 10  Alcoholism       110527 non-null  int64              \n",
      " 11  Handcap          110527 non-null  int64              \n",
      " 12  SMS_received     110527 non-null  int64              \n",
      " 13  No-show          110527 non-null  object             \n",
      " 14  ScheduledDay     110527 non-null  datetime64[ns, UTC]\n",
      " 15  AppointmentDay   110527 non-null  datetime64[ns, UTC]\n",
      "dtypes: datetime64[ns, UTC](2), float64(1), int64(8), object(5)\n",
      "memory usage: 13.5+ MB\n"
     ]
    }
   ],
   "source": [
    "df.info()"
   ]
  },
  {
   "cell_type": "markdown",
   "id": "4f13757c",
   "metadata": {},
   "source": [
    "#data optimization"
   ]
  },
  {
   "cell_type": "code",
   "execution_count": 162,
   "id": "193fa3b3",
   "metadata": {},
   "outputs": [],
   "source": [
    "\n",
    "df['Gender']=df['Gender'].astype('category')\n",
    "df['Neighbourhood']=df['Gender'].astype('category')\n",
    "df['No-show'] = df['No-show'].astype('category')\n",
    "# Change the data type to be an int8\n",
    "df[\"Age\"] = df[\"Age\"].astype(\"int8\")\n",
    "df[\"Scholarship\"] = df[\"Scholarship\"].astype(\"int8\")\n",
    "df[\"Hipertension\"] = df[\"Hipertension\"].astype(\"int8\")\n",
    "df[\"Diabetes\"] = df[\"Diabetes\"].astype(\"int8\")\n",
    "df[\"Alcoholism\"] = df[\"Alcoholism\"].astype(\"int8\")\n",
    "df[\"Handcap\"] = df[\"Handcap\"].astype(\"int8\")\n",
    "df[\"SMS_received\"] = df[\"SMS_received\"].astype(\"int8\")"
   ]
  },
  {
   "cell_type": "code",
   "execution_count": 163,
   "id": "8ac47a4a",
   "metadata": {},
   "outputs": [
    {
     "name": "stdout",
     "output_type": "stream",
     "text": [
      "<class 'pandas.core.frame.DataFrame'>\n",
      "RangeIndex: 110527 entries, 0 to 110526\n",
      "Data columns (total 16 columns):\n",
      " #   Column           Non-Null Count   Dtype              \n",
      "---  ------           --------------   -----              \n",
      " 0   PatientId        110527 non-null  float64            \n",
      " 1   AppointmentID    110527 non-null  int64              \n",
      " 2   Gender           110527 non-null  category           \n",
      " 3   ScheduledDay     110527 non-null  object             \n",
      " 4   AppointmentDay   110527 non-null  object             \n",
      " 5   Age              110527 non-null  int8               \n",
      " 6   Neighbourhood    110527 non-null  category           \n",
      " 7   Scholarship      110527 non-null  int8               \n",
      " 8   Hipertension     110527 non-null  int8               \n",
      " 9   Diabetes         110527 non-null  int8               \n",
      " 10  Alcoholism       110527 non-null  int8               \n",
      " 11  Handcap          110527 non-null  int8               \n",
      " 12  SMS_received     110527 non-null  int8               \n",
      " 13  No-show          110527 non-null  category           \n",
      " 14  ScheduledDay     110527 non-null  datetime64[ns, UTC]\n",
      " 15  AppointmentDay   110527 non-null  datetime64[ns, UTC]\n",
      "dtypes: category(3), datetime64[ns, UTC](2), float64(1), int64(1), int8(7), object(2)\n",
      "memory usage: 6.1+ MB\n"
     ]
    }
   ],
   "source": [
    "df.info()"
   ]
  },
  {
   "cell_type": "markdown",
   "id": "dddb0b41",
   "metadata": {},
   "source": [
    "Function Definition: The plot_relationship_with_noshow function is updated to group data by the specified column and the 'No-show' status,"
   ]
  },
  {
   "cell_type": "code",
   "execution_count": 164,
   "id": "1544f6f9",
   "metadata": {},
   "outputs": [],
   "source": [
    "import pandas as pd\n",
    "import numpy as np\n",
    "import matplotlib.pyplot as plt\n",
    "\n",
    "def plot_relationship_with_noshow(df, column):\n",
    "    \"\"\"\n",
    "    Plots the relationship between a specified column and the no-show status.\n",
    "\n",
    "    Parameters:\n",
    "    df (dict): The DataFrame represented as a dictionary of lists.\n",
    "    column (str): The name of the column to analyze.\n",
    "\n",
    "    Returns:\n",
    "    None\n",
    "    \"\"\"\n",
    "    df = pd.DataFrame(df)  # Convert the dictionary to a DataFrame\n",
    "    grouped_data = df.groupby([column, 'No-show'],observed=False).size().unstack(fill_value=0)\n",
    "    grouped_data.plot(kind='bar', stacked=True)\n",
    "    plt.xlabel(column)\n",
    "    plt.ylabel('No_show')\n",
    "    plt.title(f'Relationship between {column} and No-show')\n",
    "    plt.legend(title='No-show', labels=['Showed Up', 'No-show'])\n",
    "    plt.show()\n"
   ]
  },
  {
   "cell_type": "markdown",
   "id": "8829b1ad",
   "metadata": {},
   "source": [
    "# Exploratory Data Analysis\n",
    "Exploratory Data Analysis: In this stage, the data is analyzed using statistical methods and visualizations to understand the relationships between different variables. For example, the relationship between receiving an SMS reminder and attendance at appointments is explored."
   ]
  },
  {
   "cell_type": "markdown",
   "id": "96e10320",
   "metadata": {},
   "source": [
    "data selecting:i choose this column to study if ['SMS_recived'] effect for showing patient or not\n",
    "\n",
    "Research_question:Does the number of reminder messages (SMS_received) impact whether a patient shows up for their appointment?\n",
    "\n",
    "Data Cleaning and Preprocessing:check for value of SMS_recived to khnow if there need any processing,this is ok!"
   ]
  },
  {
   "cell_type": "code",
   "execution_count": 165,
   "id": "4e90b0f5",
   "metadata": {},
   "outputs": [
    {
     "data": {
      "text/plain": [
       "SMS_received\n",
       "0    75045\n",
       "1    35482\n",
       "Name: count, dtype: int64"
      ]
     },
     "execution_count": 165,
     "metadata": {},
     "output_type": "execute_result"
    }
   ],
   "source": [
    "df['SMS_received'].value_counts()"
   ]
  },
  {
   "cell_type": "markdown",
   "id": "3aaf4d4b",
   "metadata": {},
   "source": [
    "Analysis Methods: , i use descriptive statistics to summarize the distribution of ages and the proportion of no-show ,and i use value_counts() just.\n",
    "\n",
    "Plots and Visualizations: i create a bar chart to visualize the distribution of ages in the dataset.(in function ,i make groupby for column according ['no_show] and select the xlabel and ylabel and title and legned"
   ]
  },
  {
   "cell_type": "markdown",
   "id": "fce627d9",
   "metadata": {},
   "source": [
    "anwer of question 1 and it conclusion\n"
   ]
  },
  {
   "cell_type": "code",
   "execution_count": 166,
   "id": "f0062f60",
   "metadata": {},
   "outputs": [
    {
     "data": {
      "image/png": "[encoded data removed]",
      "text/plain": [
       "<Figure size 640x480 with 1 Axes>"
      ]
     },
     "metadata": {},
     "output_type": "display_data"
    }
   ],
   "source": [
    "#grouped_data = df.groupby(['No-show','SMS_received'],observed=False).size()\n",
    "\n",
    "plot_relationship_with_noshow(df, 'SMS_received')"
   ]
  },
  {
   "cell_type": "markdown",
   "id": "bdb67b7d",
   "metadata": {},
   "source": [
    "Firstly, we observed that receiving SMS reminders does not seem to have a significant impact on whether a patient shows up for their appointment. This finding challenges the common assumption that reminders improve appointment attendance and suggests that other factors may play a more influential role."
   ]
  },
  {
   "cell_type": "markdown",
   "id": "3a946e5d",
   "metadata": {},
   "source": [
    "# Research Question 2\n",
    "#Data_selection:iam  interested in understanding the factors influencing appointment attendance, the 'no_show' column indicates whether a patient showed up for their appointment or not, while the 'age' column provides demographic information that could be related to attendance patterns.\n",
    "\n",
    "Research_Question\"Is there a significant difference in the no-show rate between different age groups?\n"
   ]
  },
  {
   "cell_type": "markdown",
   "id": "f38fe64a",
   "metadata": {},
   "source": [
    "Data Cleaning and Preprocessing\"filter age because there is no that his age<=0 and cheack for value of age\n"
   ]
  },
  {
   "cell_type": "code",
   "execution_count": 167,
   "id": "4f27416f",
   "metadata": {},
   "outputs": [],
   "source": [
    "df.drop(df[df['Age'] <= 0].index, inplace=True)"
   ]
  },
  {
   "cell_type": "code",
   "execution_count": 168,
   "id": "a13e4a8c",
   "metadata": {},
   "outputs": [
    {
     "data": {
      "text/plain": [
       "Age\n",
       "1      2273\n",
       "52     1746\n",
       "49     1652\n",
       "53     1651\n",
       "56     1635\n",
       "       ... \n",
       "98        6\n",
       "115       5\n",
       "100       4\n",
       "102       2\n",
       "99        1\n",
       "Name: count, Length: 102, dtype: int64"
      ]
     },
     "execution_count": 168,
     "metadata": {},
     "output_type": "execute_result"
    }
   ],
   "source": [
    "df['Age'].value_counts()"
   ]
  },
  {
   "cell_type": "markdown",
   "id": "88efbeb7",
   "metadata": {},
   "source": [
    "Analysis Methods: , i use descriptive statistics to summarize the distribution of ages and the proportion of no-show  ,and i use value_counts() and filter the data\n",
    "\n",
    "Plots and Visualizations:  i create a  histogram to visualize the distribution of ages in the dataset.i make groupby for column according ['no_show] and select the xlabel and ylabel and title and legned"
   ]
  },
  {
   "cell_type": "markdown",
   "id": "5d653b10",
   "metadata": {},
   "source": [
    "anwer of question 2 and it conclusion"
   ]
  },
  {
   "cell_type": "code",
   "execution_count": 169,
   "id": "81bab93e",
   "metadata": {},
   "outputs": [
    {
     "data": {
      "image/png": "[encoded data removed]",
      "text/plain": [
       "<Figure size 640x480 with 1 Axes>"
      ]
     },
     "metadata": {},
     "output_type": "display_data"
    }
   ],
   "source": [
    "# Assuming you have a DataFrame called 'df' with columns 'No-show' and 'Age'\n",
    "\n",
    "# Separate the data for 'No-show' equals 'Yes' and 'No'\n",
    "no_show_yes = df[df['No-show'] == 'Yes']\n",
    "no_show_no = df[df['No-show'] == 'No']\n",
    "\n",
    "# Plot the histograms for 'Age' for each category\n",
    "plt.hist(no_show_yes['Age'], bins=20, alpha=0.5, label='No-show: Yes')\n",
    "plt.hist(no_show_no['Age'], bins=20, alpha=0.5, label='No-show: No')\n",
    "\n",
    "# Add labels and title to the plot\n",
    "plt.xlabel('Age')\n",
    "plt.ylabel('No_show')\n",
    "plt.title('Relationship between No-show and Age')\n",
    "\n",
    "# Add a legend\n",
    "plt.legend(title='No-show', labels=['Showed Up', 'No-show'])\n",
    "# Show the plot\n",
    "plt.show()"
   ]
  },
  {
   "cell_type": "markdown",
   "id": "dad2234f",
   "metadata": {},
   "source": [
    "Secondly, we investigated the relationship between age groups and appointment attendance. While we found variations in the no-show rates across different age groups, suggesting a potential association, further statistical analysis is required to establish the significance of these differences."
   ]
  },
  {
   "cell_type": "markdown",
   "id": "cf15b51c",
   "metadata": {},
   "source": [
    "# Research Question 3\n",
    "data selecting:i choose this column to study if ['Gender] effect for showing patient or not\n",
    "\n",
    "Research_question:Is there a significant difference in the proportion of no-shows between male and female patients?\n",
    "\n",
    "Data Cleaning and Preprocessing:check for value of Gender to khnow if there need any processing,this is ok!\n"
   ]
  },
  {
   "cell_type": "markdown",
   "id": "06bc5db3",
   "metadata": {},
   "source": [
    "#understand the relation"
   ]
  },
  {
   "cell_type": "code",
   "execution_count": 170,
   "id": "6452bcb8",
   "metadata": {},
   "outputs": [
    {
     "data": {
      "text/html": [
       "<div>\n",
       "<style scoped>\n",
       "    .dataframe tbody tr th:only-of-type {\n",
       "        vertical-align: middle;\n",
       "    }\n",
       "\n",
       "    .dataframe tbody tr th {\n",
       "        vertical-align: top;\n",
       "    }\n",
       "\n",
       "    .dataframe thead th {\n",
       "        text-align: right;\n",
       "    }\n",
       "</style>\n",
       "<table border=\"1\" class=\"dataframe\">\n",
       "  <thead>\n",
       "    <tr style=\"text-align: right;\">\n",
       "      <th></th>\n",
       "      <th>PatientId</th>\n",
       "      <th>AppointmentID</th>\n",
       "      <th>Age</th>\n",
       "      <th>Scholarship</th>\n",
       "      <th>Hipertension</th>\n",
       "      <th>Diabetes</th>\n",
       "      <th>Alcoholism</th>\n",
       "      <th>Handcap</th>\n",
       "      <th>SMS_received</th>\n",
       "    </tr>\n",
       "    <tr>\n",
       "      <th>No-show</th>\n",
       "      <th></th>\n",
       "      <th></th>\n",
       "      <th></th>\n",
       "      <th></th>\n",
       "      <th></th>\n",
       "      <th></th>\n",
       "      <th></th>\n",
       "      <th></th>\n",
       "      <th></th>\n",
       "    </tr>\n",
       "  </thead>\n",
       "  <tbody>\n",
       "    <tr>\n",
       "      <th>No</th>\n",
       "      <td>1.257605e+19</td>\n",
       "      <td>484649934527</td>\n",
       "      <td>3333387</td>\n",
       "      <td>8238</td>\n",
       "      <td>18029</td>\n",
       "      <td>6513</td>\n",
       "      <td>2683</td>\n",
       "      <td>2005</td>\n",
       "      <td>25017</td>\n",
       "    </tr>\n",
       "    <tr>\n",
       "      <th>Yes</th>\n",
       "      <td>3.181145e+18</td>\n",
       "      <td>122547744198</td>\n",
       "      <td>765936</td>\n",
       "      <td>2571</td>\n",
       "      <td>3772</td>\n",
       "      <td>1430</td>\n",
       "      <td>677</td>\n",
       "      <td>453</td>\n",
       "      <td>9568</td>\n",
       "    </tr>\n",
       "  </tbody>\n",
       "</table>\n",
       "</div>"
      ],
      "text/plain": [
       "            PatientId  AppointmentID      Age  Scholarship  Hipertension  \\\n",
       "No-show                                                                    \n",
       "No       1.257605e+19   484649934527  3333387         8238         18029   \n",
       "Yes      3.181145e+18   122547744198   765936         2571          3772   \n",
       "\n",
       "         Diabetes  Alcoholism  Handcap  SMS_received  \n",
       "No-show                                               \n",
       "No           6513        2683     2005         25017  \n",
       "Yes          1430         677      453          9568  "
      ]
     },
     "execution_count": 170,
     "metadata": {},
     "output_type": "execute_result"
    }
   ],
   "source": [
    "df.groupby(['No-show'],observed=False).sum(numeric_only=True)"
   ]
  },
  {
   "cell_type": "code",
   "execution_count": 171,
   "id": "f336232a",
   "metadata": {},
   "outputs": [
    {
     "data": {
      "text/plain": [
       "No-show\n",
       "No     85307\n",
       "Yes    21680\n",
       "Name: count, dtype: int64"
      ]
     },
     "execution_count": 171,
     "metadata": {},
     "output_type": "execute_result"
    }
   ],
   "source": [
    "df['No-show'].value_counts()"
   ]
  },
  {
   "cell_type": "code",
   "execution_count": 172,
   "id": "a5d1710a",
   "metadata": {},
   "outputs": [
    {
     "data": {
      "text/plain": [
       "Gender\n",
       "F    70118\n",
       "M    36869\n",
       "Name: count, dtype: int64"
      ]
     },
     "execution_count": 172,
     "metadata": {},
     "output_type": "execute_result"
    }
   ],
   "source": [
    "df['Gender'].value_counts()"
   ]
  },
  {
   "cell_type": "markdown",
   "id": "0c3aaacc",
   "metadata": {},
   "source": [
    "Analysis Methods: , i use descriptive statistics to summarize the distribution of ages and the proportion of no-show ,and i use value_counts() ,and sum().\n",
    "\n",
    "Plots and Visualizations: i create a bar chart to visualize the distribution of ages in the dataset.(in function ,i make groupby for column according ['no_show] and select the xlabel and ylabel and title and legned"
   ]
  },
  {
   "cell_type": "markdown",
   "id": "83c5fd3d",
   "metadata": {},
   "source": [
    "anwer of question 3 and it conclusion"
   ]
  },
  {
   "cell_type": "code",
   "execution_count": 174,
   "id": "f4ff430f",
   "metadata": {},
   "outputs": [
    {
     "data": {
      "image/png": "[encoded data removed]",
      "text/plain": [
       "<Figure size 640x480 with 1 Axes>"
      ]
     },
     "metadata": {},
     "output_type": "display_data"
    }
   ],
   "source": [
    "plot_relationship_with_noshow(df, 'Gender')"
   ]
  },
  {
   "cell_type": "markdown",
   "id": "7caf95a4",
   "metadata": {},
   "source": [
    "finally- Female Attendance: The 'F, No' bar is significantly higher than the others, indicating that a larger number of female patients attended their appointments compared to those who did not ('No' being higher than 'Yes').\n",
    "\n",
    "Male Attendance: The 'M, No' bar, although lower than 'F, No', is higher than both 'F, Yes' and 'M, Yes'. This suggests that a significant number of male patients also attended their appointments, but the overall attendance numbers for males were lower than females.\n",
    "No-show Comparison: The 'F, Yes' bar is higher than the 'M, Yes' bar, indicating that more female patients missed their appointments compared to male patients."
   ]
  },
  {
   "cell_type": "markdown",
   "id": "6ac3a378",
   "metadata": {},
   "source": [
    "# Conclusion\n",
    "The Conclusions have reflected on the steps taken during the data exploration.\n",
    "In conclusion, our analysis of the dataset concerning medical appointment no-shows has shed light on several significant factors associated with patients not showing up for their appointments. \n",
    "\n",
    "Firstly, we observed that receiving SMS reminders does not seem to have a significant impact on whether a patient shows up for their appointment. This finding challenges the common assumption that reminders improve appointment attendance and suggests that other factors may play a more influential role.\n",
    "\n",
    "Secondly, we investigated the relationship between age groups and appointment attendance. While we found variations in the no-show rates across different age groups, suggesting a potential association, further statistical analysis is required to establish the significance of these differences. \n",
    " \n",
    "finally- Female Attendance: The 'F, No' bar is significantly higher than the others, indicating that a larger number of female patients attended their appointments compared to those who did not ('No' being higher than 'Yes').\n",
    "- **Male Attendance**: The 'M, No' bar, although lower than 'F, No', is higher than both 'F, Yes' and 'M, Yes'. This suggests that a significant number of male patients also attended their appointments, but the overall attendance numbers for males were lower than females.\n",
    "- **No-show Comparison**: The 'F, Yes' bar is higher than the 'M, Yes' bar, indicating that more female patients missed their appointments compared to male patients.\n",
    "\n",
    "In summary, while both genders had more patients attending their appointments than not, the female gender had a higher turnout rate. However, more female patients also missed their appointments compared to male patients.(\n",
    "\n",
    "The project has pointed out where additional research can be done or where additional information could be useful like(\tHipertension,Diabetes)\n",
    "\n"
   ]
  },
  {
   "cell_type": "markdown",
   "id": "aca26ef5",
   "metadata": {},
   "source": [
    "# Limitations\n",
    "\n",
    "It is essential to acknowledge the limitations of our analysis. Firstly, the dataset represents a sample of medical appointments from Brazil and may not be fully representative of the broader population. Furthermore, we encountered missing observations and inconsistencies in the data, which could introduce bias and affect the generalizability of our findings. Additionally, our analysis did not include statistical inference to test the significance of the results, limiting the strength of our conclusions.\n"
   ]
  },
  {
   "cell_type": "markdown",
   "id": "9904391d",
   "metadata": {},
   "source": [
    "# Future Directions\n",
    "\n",
    "Future research could benefit from addressing these limitations by incorporating larger and more diverse datasets, conducting rigorous statistical analyses, and exploring additional variables that may influence appointment attendance. Furthermore, qualitative studies could provide valuable insights into the underlying reasons behind missed appointments, helping healthcare providers implement targeted interventions to improve patient attendance rates.\n",
    "\n",
    "Overall, while our analysis provides valuable insights into the factors associated with medical appointment no-shows, further research is needed to fully understand the complex dynamics at play and develop effective strategies to reduce missed appointments and improve healthcare outcomes."
   ]
  },
  {
   "cell_type": "code",
   "execution_count": null,
   "id": "2d5fdf7d",
   "metadata": {},
   "outputs": [],
   "source": []
  }
 ],
 "metadata": {
  "kernelspec": {
   "display_name": "Python 3 (ipykernel)",
   "language": "python",
   "name": "python3"
  },
  "language_info": {
   "codemirror_mode": {
    "name": "ipython",
    "version": 3
   },
   "file_extension": ".py",
   "mimetype": "text/x-python",
   "name": "python",
   "nbconvert_exporter": "python",
   "pygments_lexer": "ipython3",
   "version": "3.11.7"
  }
 },
 "nbformat": 4,
 "nbformat_minor": 5
}
